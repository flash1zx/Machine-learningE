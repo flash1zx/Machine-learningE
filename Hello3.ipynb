{
  "nbformat": 4,
  "nbformat_minor": 0,
  "metadata": {
    "colab": {
      "provenance": [],
      "authorship_tag": "ABX9TyOngN7TJ6n09b9Ssc8K84QJ",
      "include_colab_link": true
    },
    "kernelspec": {
      "name": "python3",
      "display_name": "Python 3"
    },
    "language_info": {
      "name": "python"
    }
  },
  "cells": [
    {
      "cell_type": "markdown",
      "metadata": {
        "id": "view-in-github",
        "colab_type": "text"
      },
      "source": [
        "<a href=\"https://colab.research.google.com/github/flash1zx/Machine-learningE/blob/main/Hello3.ipynb\" target=\"_parent\"><img src=\"https://colab.research.google.com/assets/colab-badge.svg\" alt=\"Open In Colab\"/></a>"
      ]
    },
    {
      "cell_type": "code",
      "execution_count": null,
      "metadata": {
        "id": "oqyeYgqF1LdV"
      },
      "outputs": [],
      "source": [
        "import matplotlib.pyplot as plt"
      ]
    },
    {
      "cell_type": "code",
      "source": [
        "import numpy as np"
      ],
      "metadata": {
        "id": "kESnUZTB1aIP"
      },
      "execution_count": null,
      "outputs": []
    },
    {
      "cell_type": "code",
      "source": [
        "x = np.array([0, 50])\n",
        "y = np.array([0, 50])"
      ],
      "metadata": {
        "id": "vIPfV6WY1dNK"
      },
      "execution_count": null,
      "outputs": []
    },
    {
      "cell_type": "code",
      "source": [
        "x = np.array([1,2,3,4,5])\n",
        "y = np.array([6,4,8,9,1])"
      ],
      "metadata": {
        "id": "EBEJukLt2Q5A"
      },
      "execution_count": null,
      "outputs": []
    },
    {
      "cell_type": "code",
      "source": [
        "x = np.array([1,2,3,4,5])\n",
        "y = np.array([6,4,8,9,1])\n",
        "\n",
        "plt.subplot(1, 2, 1)\n",
        "plt.plot(x,y)\n",
        "\n",
        "a = np.array([1,2,3,4,5])\n",
        "b = np.array([10,20,30,40,50])\n",
        "\n",
        "plt.subplot(1,2,2)\n",
        "plt.plot(a,b)\n",
        "plt.show()"
      ],
      "metadata": {
        "id": "TiUEY101ylBj"
      },
      "execution_count": null,
      "outputs": []
    },
    {
      "cell_type": "code",
      "source": [
        "plt.plot(x, y)\n",
        "plt.show()"
      ],
      "metadata": {
        "id": "qOk2D_xn16QB"
      },
      "execution_count": null,
      "outputs": []
    },
    {
      "cell_type": "code",
      "source": [
        "x = np.array([1,2,3,4,5])\n",
        "y = np.array([6,4,8,9,1])\n",
        "\n",
        "plt.plot(x,y, linestyle=\"dashed\", c='b')\n",
        "plt.grid()\n",
        "plt.xlabel('<<<<<< <This is X axis> >>>>>')\n",
        "plt.ylabel('<<<<<< This is y axis> >>>>>>')\n",
        "plt.title(\"This is the title\")\n",
        "plt.show()"
      ],
      "metadata": {
        "id": "NvS5ax9O25eZ"
      },
      "execution_count": null,
      "outputs": []
    },
    {
      "cell_type": "code",
      "source": [
        "x = np.array([12,23,93,104,59,10,26,39])\n",
        "y = np.array([6,42,84,96,18,26, 98, 21])\n",
        "plt.scatter(x, y)\n",
        "plt.show()"
      ],
      "metadata": {
        "id": "tTFRaLGLv9Cs"
      },
      "execution_count": null,
      "outputs": []
    },
    {
      "cell_type": "code",
      "source": [
        "plt.plot(x,y)\n",
        "plt.show()"
      ],
      "metadata": {
        "id": "V3b99krb0IjH"
      },
      "execution_count": null,
      "outputs": []
    },
    {
      "cell_type": "code",
      "source": [
        "import pandas as pd"
      ],
      "metadata": {
        "id": "7FkuBTM00RoM"
      },
      "execution_count": null,
      "outputs": []
    },
    {
      "cell_type": "code",
      "source": [
        "data = pd.read_csv(\"/content/heart.csv\")"
      ],
      "metadata": {
        "id": "VmPU546j0T4z"
      },
      "execution_count": null,
      "outputs": []
    },
    {
      "cell_type": "code",
      "source": [
        "print(data)"
      ],
      "metadata": {
        "id": "yrR-Kgbi00f6"
      },
      "execution_count": null,
      "outputs": []
    },
    {
      "cell_type": "code",
      "source": [
        "data.head()"
      ],
      "metadata": {
        "id": "diAFgNrz1CwK"
      },
      "execution_count": null,
      "outputs": []
    },
    {
      "cell_type": "code",
      "source": [
        "plt.scatter(x=data.Age[data.HeartDisease==0], y=data.Cholesterol[data.HeartDisease==0], label=\"Heart disease absent\")\n",
        "plt.scatter(x=data.Age[data.HeartDisease==1], y=data.Cholesterol[data.HeartDisease==1], label=\"Heart disease present\")\n",
        "plt.title(\"Age vs Cholestrol diagnosis\")\n",
        "plt.xlabel(\"<<<<<<<<Age>>>>>>>>>\")\n",
        "plt.ylabel(\"<<<<<<<<Cholestrol>>>>>>>>\")\n",
        "plt.legend()\n",
        "plt.show()"
      ],
      "metadata": {
        "id": "YiCcwdOR3hV8"
      },
      "execution_count": null,
      "outputs": []
    },
    {
      "cell_type": "code",
      "source": [
        "x = np.array([\"A\", \"B\", \"C\", \"D\"])\n",
        "y = np.array([1, 3, 4, 8])\n",
        "\n",
        "plt.bar(x,y)\n",
        "plt.show()"
      ],
      "metadata": {
        "id": "2MPYzajX6OTS"
      },
      "execution_count": null,
      "outputs": []
    }
  ]
}